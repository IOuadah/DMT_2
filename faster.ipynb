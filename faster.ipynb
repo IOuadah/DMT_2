{
 "cells": [
  {
   "cell_type": "code",
   "execution_count": 1,
   "metadata": {},
   "outputs": [],
   "source": [
    "import dask\n",
    "import dask.dataframe as dd"
   ]
  },
  {
   "cell_type": "code",
   "execution_count": 2,
   "metadata": {},
   "outputs": [
    {
     "name": "stderr",
     "output_type": "stream",
     "text": [
      "c:\\Users\\souma\\Desktop\\iggyy\\DMT_2\\.venv\\lib\\site-packages\\distributed\\node.py:182: UserWarning: Port 8787 is already in use.\n",
      "Perhaps you already have a cluster running?\n",
      "Hosting the HTTP server on port 53163 instead\n",
      "  warnings.warn(\n"
     ]
    }
   ],
   "source": [
    "from dask.distributed import LocalCluster\n",
    "cluster = LocalCluster()\n",
    "client = cluster.get_client()"
   ]
  },
  {
   "cell_type": "code",
   "execution_count": 1,
   "metadata": {},
   "outputs": [],
   "source": [
    "from sklearn.preprocessing import MinMaxScaler\n",
    "\n",
    "import numpy as np\n",
    "import pandas as pd\n",
    "import tensorflow as tf\n",
    "\n",
    "import MIDASpy as md"
   ]
  },
  {
   "cell_type": "code",
   "execution_count": 5,
   "metadata": {},
   "outputs": [],
   "source": [
    "# train = pd.read_csv(\"data/training_set_VU_DM.csv\")\n",
    "# date_time = pd.to_datetime(train.pop(\"date_time\"), format= \"%Y-%m-%d %H:%M:%S\")\n",
    "\n",
    "test = pd.read_csv(\"data/test_set_VU_DM.csv\")\n",
    "date_time = pd.to_datetime(test.pop(\"date_time\"), format= \"%Y-%m-%d %H:%M:%S\")\n",
    "data_in = test"
   ]
  },
  {
   "cell_type": "code",
   "execution_count": 6,
   "metadata": {},
   "outputs": [],
   "source": [
    "na_loc = data_in.isnull()\n",
    "data_in[na_loc] = np.nan\n"
   ]
  },
  {
   "cell_type": "code",
   "execution_count": 7,
   "metadata": {},
   "outputs": [
    {
     "name": "stdout",
     "output_type": "stream",
     "text": [
      "Size index: [49]\n",
      "\n",
      "Computation graph constructed\n",
      "\n",
      "Model initialised\n",
      "\n",
      "Epoch: 0 , loss: 104917.73671098912\n",
      "Epoch: 1 , loss: 100627.0575779042\n",
      "Epoch: 2 , loss: 99260.50917085537\n",
      "Epoch: 3 , loss: 97172.38835610253\n",
      "Epoch: 4 , loss: 98549.52005708165\n",
      "Training complete. Saving file...\n",
      "Model saved in file: tmp/MIDAS\n"
     ]
    },
    {
     "data": {
      "text/plain": [
       "<MIDASpy.midas_base.Midas at 0x15917976170>"
      ]
     },
     "execution_count": 7,
     "metadata": {},
     "output_type": "execute_result"
    }
   ],
   "source": [
    "imputer = md.Midas(layer_structure=[256, 256], vae_layer= False, seed=89, input_drop= 0.75)\n",
    "imputer.build_model(data_in)\n",
    "imputer.train_model(training_epochs=5)"
   ]
  },
  {
   "cell_type": "code",
   "execution_count": 8,
   "metadata": {},
   "outputs": [
    {
     "name": "stdout",
     "output_type": "stream",
     "text": [
      "INFO:tensorflow:Restoring parameters from tmp/MIDAS\n",
      "Model restored.\n"
     ]
    }
   ],
   "source": [
    "n = 1\n",
    "imputations = imputer.generate_samples(m=1).output_list\n",
    "imputations\n",
    "\n",
    "for i in imputations:\n",
    "   file_out = \"midas_imp_test_\" + str(n) + \".csv\"\n",
    "   i.to_csv(file_out, index=False)\n",
    "   n += 1"
   ]
  },
  {
   "cell_type": "code",
   "execution_count": 11,
   "metadata": {},
   "outputs": [
    {
     "name": "stdout",
     "output_type": "stream",
     "text": [
      "Size index: [53]\n",
      "\n",
      "Computation graph constructed\n",
      "\n"
     ]
    },
    {
     "data": {
      "text/plain": [
       "<MIDASpy.midas_base.Midas at 0x2d43869cbe0>"
      ]
     },
     "execution_count": 11,
     "metadata": {},
     "output_type": "execute_result"
    }
   ],
   "source": [
    "# imputer = md.Midas(layer_structure=[256, 256], vae_layer= False, seed=89, input_drop= 0.75)\n",
    "# imputer.build_model(data_in)\n"
   ]
  },
  {
   "cell_type": "code",
   "execution_count": 12,
   "metadata": {},
   "outputs": [
    {
     "name": "stdout",
     "output_type": "stream",
     "text": [
      "INFO:tensorflow:Restoring parameters from tmp/MIDAS\n",
      "Model restored.\n"
     ]
    }
   ],
   "source": [
    "# n = 1\n",
    "# imputations = imputer.generate_samples(m=1).output_list\n",
    "# imputations\n",
    "\n",
    "# for i in imputations:\n",
    "#    file_out = \"midas_imp_\" + str(n) + \".csv\"\n",
    "#    i.to_csv(file_out, index=False)\n",
    "#    n += 1"
   ]
  },
  {
   "cell_type": "code",
   "execution_count": null,
   "metadata": {},
   "outputs": [],
   "source": []
  }
 ],
 "metadata": {
  "kernelspec": {
   "display_name": ".venv",
   "language": "python",
   "name": "python3"
  },
  "language_info": {
   "codemirror_mode": {
    "name": "ipython",
    "version": 3
   },
   "file_extension": ".py",
   "mimetype": "text/x-python",
   "name": "python",
   "nbconvert_exporter": "python",
   "pygments_lexer": "ipython3",
   "version": "3.10.11"
  }
 },
 "nbformat": 4,
 "nbformat_minor": 2
}
