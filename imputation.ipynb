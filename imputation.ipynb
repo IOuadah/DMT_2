{
  "cells": [
    {
      "cell_type": "code",
      "execution_count": 1,
      "metadata": {
        "id": "Bq48KOwbnhYZ"
      },
      "outputs": [],
      "source": [
        "import dask\n",
        "import dask.dataframe as dd"
      ]
    },
    {
      "cell_type": "code",
      "execution_count": 2,
      "metadata": {
        "id": "_8XgfqMQn8Sw"
      },
      "outputs": [],
      "source": [
        "from dask.distributed import LocalCluster\n",
        "cluster = LocalCluster()\n",
        "client = cluster.get_client()"
      ]
    },
    {
      "cell_type": "code",
      "execution_count": 1,
      "metadata": {
        "id": "a5-JfZ00oA2y"
      },
      "outputs": [],
      "source": [
        "from sklearn.preprocessing import MinMaxScaler\n",
        "import numpy as np\n",
        "import pandas as pd\n",
        "import tensorflow as tf\n",
        "\n",
        "import MIDASpy as md"
      ]
    },
    {
      "cell_type": "code",
      "execution_count": 3,
      "metadata": {
        "id": "MsDMbTcvsxo_"
      },
      "outputs": [],
      "source": [
        "\n",
        "train = pd.read_csv(\"data/training_set_VU_DM.csv\")\n",
        "date_time = pd.to_datetime(train.pop('date_time'), format='%Y-%m-%d %H:%M:%S')\n",
        "data_in = train\n",
        "# data_in.head()"
      ]
    },
    {
      "cell_type": "code",
      "execution_count": 4,
      "metadata": {
        "id": "8M3xRWbVtRMT"
      },
      "outputs": [
        {
          "data": {
            "text/plain": [
              "pandas.core.frame.DataFrame"
            ]
          },
          "execution_count": 4,
          "metadata": {},
          "output_type": "execute_result"
        }
      ],
      "source": [
        "na_loc = data_in.isnull()\n",
        "data_in[na_loc] = np.nan\n",
        "type(data_in)"
      ]
    },
    {
      "cell_type": "code",
      "execution_count": 5,
      "metadata": {
        "id": "ZUPjo_dbsx5y"
      },
      "outputs": [
        {
          "name": "stdout",
          "output_type": "stream",
          "text": [
            "Size index: [53]\n",
            "\n",
            "Computation graph constructed\n",
            "\n",
            "Model initialised\n",
            "\n",
            "Epoch: 0 , loss: 105769.83281010253\n",
            "Epoch: 1 , loss: 101443.51707483745\n",
            "Epoch: 2 , loss: 100340.39860744108\n",
            "Epoch: 3 , loss: 100618.11767603335\n",
            "Epoch: 4 , loss: 99579.07235096108\n",
            "Epoch: 5 , loss: 106213.5286061947\n",
            "Epoch: 6 , loss: 106512.53152431078\n",
            "Epoch: 7 , loss: 111918.11634007609\n",
            "Epoch: 8 , loss: 125066.04780496168\n",
            "Epoch: 9 , loss: 118897.36356927505\n",
            "Epoch: 10 , loss: 111783.50769112611\n",
            "Epoch: 11 , loss: 113639.32888557522\n",
            "Epoch: 12 , loss: 112220.30375859713\n",
            "Epoch: 13 , loss: 158588.23609324277\n",
            "Epoch: 14 , loss: 117344.98637651574\n",
            "Epoch: 15 , loss: 131007.23127576217\n",
            "Epoch: 16 , loss: 143160.51567773946\n",
            "Epoch: 17 , loss: 131421.9447386936\n",
            "Epoch: 18 , loss: 131850.86983946076\n",
            "Epoch: 19 , loss: 186915.1761064221\n",
            "Training complete. Saving file...\n",
            "Model saved in file: tmp/MIDAS\n"
          ]
        },
        {
          "data": {
            "text/plain": [
              "<MIDASpy.midas_base.Midas at 0x14089ec6d10>"
            ]
          },
          "execution_count": 5,
          "metadata": {},
          "output_type": "execute_result"
        }
      ],
      "source": [
        "imputer = md.Midas(layer_structure = [256,256], vae_layer = False, seed = 89, input_drop = 0.75)\n",
        "imputer.build_model(data_in)\n",
        "imputer.train_model(training_epochs = 20)"
      ]
    },
    {
      "cell_type": "code",
      "execution_count": 6,
      "metadata": {
        "id": "9jyLSyyDt8Xf"
      },
      "outputs": [
        {
          "name": "stdout",
          "output_type": "stream",
          "text": [
            "INFO:tensorflow:Restoring parameters from tmp/MIDAS\n",
            "Model restored.\n"
          ]
        }
      ],
      "source": [
        "imputations = imputer.generate_samples(m=1).output_list\n",
        "\n",
        "n = 1\n",
        "for i in imputations:\n",
        "   file_out = \"midas_imp_20_epoch_\" + str(n) + \".csv\"\n",
        "   i.to_csv(file_out, index=False)\n",
        "   n += 1"
      ]
    },
    {
      "cell_type": "code",
      "execution_count": null,
      "metadata": {},
      "outputs": [],
      "source": [
        "\n",
        "n = 1\n",
        "for i in imputations:\n",
        "   file_out = \"midas_imp_\" + str(n) + \".csv\"\n",
        "   i.to_csv(file_out, index=False)\n",
        "   n += 1"
      ]
    }
  ],
  "metadata": {
    "accelerator": "GPU",
    "colab": {
      "gpuType": "T4",
      "provenance": []
    },
    "kernelspec": {
      "display_name": "Python 3",
      "name": "python3"
    },
    "language_info": {
      "codemirror_mode": {
        "name": "ipython",
        "version": 3
      },
      "file_extension": ".py",
      "mimetype": "text/x-python",
      "name": "python",
      "nbconvert_exporter": "python",
      "pygments_lexer": "ipython3",
      "version": "3.10.6"
    }
  },
  "nbformat": 4,
  "nbformat_minor": 0
}
