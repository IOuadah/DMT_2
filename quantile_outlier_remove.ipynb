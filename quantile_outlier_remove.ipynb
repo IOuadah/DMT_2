{
 "cells": [
  {
   "cell_type": "code",
   "execution_count": 15,
   "metadata": {},
   "outputs": [
    {
     "name": "stdout",
     "output_type": "stream",
     "text": [
      "(175827, 56)\n"
     ]
    },
    {
     "data": {
      "text/plain": [
       "<bound method NDFrame.head of         srch_id            date_time  site_id  visitor_location_country_id  \\\n",
       "0            29  2013-02-26 19:42:22       18                          129   \n",
       "1            29  2013-02-26 19:42:22       18                          129   \n",
       "2            29  2013-02-26 19:42:22       18                          129   \n",
       "3            29  2013-02-26 19:42:22       18                          129   \n",
       "4            29  2013-02-26 19:42:22       18                          129   \n",
       "...         ...                  ...      ...                          ...   \n",
       "175822   332718  2013-02-09 15:47:29       32                          220   \n",
       "175823   332718  2013-02-09 15:47:29       32                          220   \n",
       "175824   332718  2013-02-09 15:47:29       32                          220   \n",
       "175825   332718  2013-02-09 15:47:29       32                          220   \n",
       "175826   332718  2013-02-09 15:47:29       32                          220   \n",
       "\n",
       "        visitor_hist_starrating  visitor_hist_adr_usd  prop_country_id  \\\n",
       "0                           NaN                   NaN              219   \n",
       "1                           NaN                   NaN              219   \n",
       "2                           NaN                   NaN              219   \n",
       "3                           NaN                   NaN              219   \n",
       "4                           NaN                   NaN              219   \n",
       "...                         ...                   ...              ...   \n",
       "175822                      NaN                   NaN              219   \n",
       "175823                      NaN                   NaN              219   \n",
       "175824                      NaN                   NaN              219   \n",
       "175825                      NaN                   NaN              219   \n",
       "175826                      NaN                   NaN              219   \n",
       "\n",
       "        prop_id  prop_starrating  prop_review_score  ...  comp7_inv  \\\n",
       "0          1722                3                4.0  ...        NaN   \n",
       "1          3858                4                4.5  ...        NaN   \n",
       "2          7523                4                0.0  ...        NaN   \n",
       "3          7880                4                4.5  ...        NaN   \n",
       "4         31336                4                4.0  ...        NaN   \n",
       "...         ...              ...                ...  ...        ...   \n",
       "175822   115029                0                5.0  ...        NaN   \n",
       "175823   117667                4                4.5  ...        NaN   \n",
       "175824   117976                3                4.5  ...        NaN   \n",
       "175825   119952                4                4.5  ...        NaN   \n",
       "175826   127482                4                4.5  ...        NaN   \n",
       "\n",
       "        comp7_rate_percent_diff  comp8_rate  comp8_inv  \\\n",
       "0                           NaN         NaN        NaN   \n",
       "1                           NaN         NaN        NaN   \n",
       "2                           NaN         NaN        NaN   \n",
       "3                           NaN         NaN        NaN   \n",
       "4                           NaN         NaN        NaN   \n",
       "...                         ...         ...        ...   \n",
       "175822                      NaN         NaN        NaN   \n",
       "175823                      NaN         0.0        0.0   \n",
       "175824                      NaN         0.0        0.0   \n",
       "175825                      NaN         0.0        0.0   \n",
       "175826                      NaN         0.0        0.0   \n",
       "\n",
       "        comp8_rate_percent_diff  click_bool  gross_bookings_usd  booking_bool  \\\n",
       "0                           NaN           1             1927.64             1   \n",
       "1                           NaN           0                 NaN             0   \n",
       "2                           NaN           0                 NaN             0   \n",
       "3                           NaN           0                 NaN             0   \n",
       "4                           NaN           0                 NaN             0   \n",
       "...                         ...         ...                 ...           ...   \n",
       "175822                      NaN           0                 NaN             0   \n",
       "175823                      NaN           0                 NaN             0   \n",
       "175824                      NaN           0                 NaN             0   \n",
       "175825                      NaN           0                 NaN             0   \n",
       "175826                      NaN           0                 NaN             0   \n",
       "\n",
       "        year  month  \n",
       "0       2013      2  \n",
       "1       2013      2  \n",
       "2       2013      2  \n",
       "3       2013      2  \n",
       "4       2013      2  \n",
       "...      ...    ...  \n",
       "175822  2013      2  \n",
       "175823  2013      2  \n",
       "175824  2013      2  \n",
       "175825  2013      2  \n",
       "175826  2013      2  \n",
       "\n",
       "[175827 rows x 56 columns]>"
      ]
     },
     "execution_count": 15,
     "metadata": {},
     "output_type": "execute_result"
    }
   ],
   "source": [
    "import pandas as pd\n",
    "from pandas.api.types import is_string_dtype\n",
    "from pandas.api.types import is_numeric_dtype\n",
    "data = pd.read_csv(\"data/train_small.csv\")\n",
    "print(data.shape)\n",
    "# print(data.columns)\n",
    "\n",
    "for col in data.columns:\n",
    "    if is_numeric_dtype(data[col]) == True:\n",
    "        mean = data[col].mean()\n",
    "        std = data[col].std()\n",
    "        cut_off = std * 3\n",
    "        lower_bound, upper_bound = mean - cut_off, mean + cut_off\n",
    "        outliers_removed_df = data[(data[col] < upper_bound) & (data[col] > lower_bound)]\n",
    "    else:\n",
    "        continue\n",
    "\n",
    "outliers_removed_df.head\n",
    "\n"
   ]
  }
 ],
 "metadata": {
  "kernelspec": {
   "display_name": "Python 3",
   "language": "python",
   "name": "python3"
  },
  "language_info": {
   "codemirror_mode": {
    "name": "ipython",
    "version": 3
   },
   "file_extension": ".py",
   "mimetype": "text/x-python",
   "name": "python",
   "nbconvert_exporter": "python",
   "pygments_lexer": "ipython3",
   "version": "3.11.1"
  }
 },
 "nbformat": 4,
 "nbformat_minor": 2
}
